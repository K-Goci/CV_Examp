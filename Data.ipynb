{
 "cells": [
  {
   "metadata": {},
   "cell_type": "raw",
   "source": "",
   "id": "3eb8df29aca2ec9a"
  },
  {
   "metadata": {
    "ExecuteTime": {
     "end_time": "2025-05-09T08:48:02.690054Z",
     "start_time": "2025-05-09T08:48:02.675281Z"
    }
   },
   "cell_type": "code",
   "source": [
    "import os\n",
    "\n",
    "def count_data(data_dir):\n",
    "    \"\"\"Đếm số lượng dữ liệu trong một thư mục và các thư mục con.\n",
    "\n",
    "    Args:\n",
    "        data_dir: Đường dẫn đến thư mục dữ liệu.\n",
    "\n",
    "    Returns:\n",
    "        Một dictionary chứa số lượng dữ liệu trong mỗi thư mục con, hoặc None nếu thư mục không tồn tại.\n",
    "    \"\"\"\n",
    "    counts = {}\n",
    "    try:\n",
    "        for class_name in os.listdir(data_dir):\n",
    "            class_path = os.path.join(data_dir, class_name)\n",
    "            if os.path.isdir(class_path):  # Kiểm tra xem có phải thư mục con hay không\n",
    "                num_files = len(os.listdir(class_path))\n",
    "                counts[class_name] = num_files\n",
    "    except FileNotFoundError:\n",
    "        print(f\"Lỗi: Thư mục '{data_dir}' không tồn tại.\")\n",
    "        return None\n",
    "    return counts\n",
    "\n",
    "# Đường dẫn đến thư mục Train và Test\n",
    "train_dir = \"Train\"\n",
    "test_dir = \"Test\"\n",
    "\n",
    "# Đếm số lượng dữ liệu trong tập Train\n",
    "train_counts = count_data(train_dir)\n",
    "if train_counts is None:\n",
    "    exit()\n",
    "\n",
    "# Đếm số lượng dữ liệu trong tập Test\n",
    "test_counts = count_data(test_dir)\n",
    "if test_counts is None:\n",
    "    exit()\n",
    "\n",
    "# Tính tổng số lượng dữ liệu\n",
    "total_train = sum(train_counts.values())\n",
    "total_test = sum(test_counts.values())\n",
    "total_data = total_train + total_test\n",
    "\n",
    "# Tính tỷ lệ Train/Test\n",
    "train_ratio = (total_train / total_data) * 100\n",
    "test_ratio = (total_test / total_data) * 100\n",
    "\n",
    "# In số lượng hình ảnh cho mỗi nhãn (Train + Test)\n",
    "print(\"Số lượng hình ảnh theo nhãn (Train + Test):\")\n",
    "for class_name in train_counts:  # Giả sử nhãn giống nhau ở Train và Test\n",
    "    train_count = train_counts.get(class_name, 0)\n",
    "    test_count = test_counts.get(class_name, 0)\n",
    "    total_class = train_count + test_count\n",
    "    print(f\"- {class_name}: {total_class} ảnh (Train: {train_count}, Test: {test_count})\")\n",
    "\n",
    "# In tổng số lượng và tỷ lệ\n",
    "print(f\"\\nTổng cộng Train: {total_train} ảnh ({train_ratio:.2f}%)\")\n",
    "print(f\"Tổng cộng Test: {total_test} ảnh ({test_ratio:.2f}%)\")\n",
    "print(f\"Tổng số dữ liệu (Train + Test): {total_data} ảnh\")"
   ],
   "id": "c22c78c578004a3",
   "outputs": [
    {
     "name": "stdout",
     "output_type": "stream",
     "text": [
      "Số lượng hình ảnh theo nhãn (Train + Test):\n",
      "- Bút bi: 722 ảnh (Train: 511, Test: 211)\n",
      "- Bút chì: 680 ảnh (Train: 503, Test: 177)\n",
      "- Bút máy: 372 ảnh (Train: 275, Test: 97)\n",
      "- Gọt: 644 ảnh (Train: 475, Test: 169)\n",
      "- thước: 709 ảnh (Train: 493, Test: 216)\n",
      "- tẩy: 727 ảnh (Train: 517, Test: 210)\n",
      "\n",
      "Tổng cộng Train: 2774 ảnh (71.98%)\n",
      "Tổng cộng Test: 1080 ảnh (28.02%)\n",
      "Tổng số dữ liệu (Train + Test): 3854 ảnh\n"
     ]
    }
   ],
   "execution_count": 2
  }
 ],
 "metadata": {
  "kernelspec": {
   "name": "python3",
   "language": "python",
   "display_name": "Python 3 (ipykernel)"
  }
 },
 "nbformat": 4,
 "nbformat_minor": 5
}
